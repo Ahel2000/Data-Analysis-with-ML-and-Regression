{
  "nbformat": 4,
  "nbformat_minor": 0,
  "metadata": {
    "colab": {
      "name": "Untitled",
      "provenance": [],
      "collapsed_sections": [],
      "toc_visible": true,
      "authorship_tag": "ABX9TyNo0wrUo2xZuBevvsVhhr3O",
      "include_colab_link": true
    },
    "kernelspec": {
      "name": "python3",
      "display_name": "Python 3"
    }
  },
  "cells": [
    {
      "cell_type": "markdown",
      "metadata": {
        "id": "view-in-github",
        "colab_type": "text"
      },
      "source": [
        "<a href=\"https://colab.research.google.com/github/soumitri2001/Data-Analysis-with-ML-and-Regression/blob/master/JsonValuesofCSV.ipynb\" target=\"_parent\"><img src=\"https://colab.research.google.com/assets/colab-badge.svg\" alt=\"Open In Colab\"/></a>"
      ]
    },
    {
      "cell_type": "code",
      "metadata": {
        "id": "ouIeVyGejQoK",
        "colab_type": "code",
        "colab": {}
      },
      "source": [
        "import pandas as pd"
      ],
      "execution_count": null,
      "outputs": []
    },
    {
      "cell_type": "code",
      "metadata": {
        "id": "iKNJmWrYjt-F",
        "colab_type": "code",
        "colab": {}
      },
      "source": [
        "colnames=['index','topic','question','a','b','c','d','answer','images'] #specify the column names i.e. JSON keys \n",
        "data = pd.read_csv('12thClassBiologyFinal.csv',names=colnames) # import the csv file you want to work on"
      ],
      "execution_count": null,
      "outputs": []
    },
    {
      "cell_type": "code",
      "metadata": {
        "id": "QX2ZYzNtkLoc",
        "colab_type": "code",
        "colab": {}
      },
      "source": [
        "questions=data.question.tolist()\n",
        "index=data.index.tolist()\n",
        "A=data.a.tolist()\n",
        "B=data.b.tolist()\n",
        "C=data.c.tolist()\n",
        "D=data.d.tolist()\n",
        "answer=data.answer.tolist()"
      ],
      "execution_count": null,
      "outputs": []
    },
    {
      "cell_type": "code",
      "metadata": {
        "id": "-Pt0uTVGkWra",
        "colab_type": "code",
        "colab": {}
      },
      "source": [
        "print(str(index))\n",
        "print(str(A))\n",
        "print(str(questions))\n",
        "print(str(answer))"
      ],
      "execution_count": null,
      "outputs": []
    },
    {
      "cell_type": "code",
      "metadata": {
        "id": "97ATn1Lznrrd",
        "colab_type": "code",
        "colab": {}
      },
      "source": [
        "for i in range(1,len(index)//2) :\n",
        "  print('\\\"'+str(index[i])+'\\\":{\\n')\n",
        "  print('\\t\\\"question\\\" : \\\"'+questions[i]+'\\\" ,')\n",
        "  print('\\t\\\"a\\\" : \\\"'+str(A[i])+'\\\" ,')\n",
        "  print('\\t\\\"b\\\" : \\\"'+str(B[i])+'\\\" ,')\n",
        "  print('\\t\\\"c\\\" : \\\"'+str(C[i])+'\\\" ,')\n",
        "  print('\\t\\\"d\\\" : \\\"'+str(D[i])+'\\\" ,')\n",
        "  print('\\t\\\"answer\\\" : \\\"'+str(answer[i])+'\\\" ,')\n",
        "\n",
        "  print('},')"
      ],
      "execution_count": null,
      "outputs": []
    },
    {
      "cell_type": "code",
      "metadata": {
        "id": "LwGgw2Aml5Bt",
        "colab_type": "code",
        "colab": {}
      },
      "source": [
        "for i in range(len(index)//2,len(index)) :\n",
        "  print('\\\"'+str(index[i])+'\\\":{\\n')\n",
        "  print('\\t\\\"question\\\" : \\\"'+questions[i]+'\\\" ,')\n",
        "  print('\\t\\\"a\\\" : \\\"'+str(A[i])+'\\\" ,')\n",
        "  print('\\t\\\"b\\\" : \\\"'+str(B[i])+'\\\" ,')\n",
        "  print('\\t\\\"c\\\" : \\\"'+str(C[i])+'\\\" ,')\n",
        "  print('\\t\\\"d\\\" : \\\"'+str(D[i])+'\\\" ,')\n",
        "  print('\\t\\\"answer\\\" : \\\"'+str(answer[i])+'\\\" ,')\n",
        "\n",
        "  print('},')"
      ],
      "execution_count": null,
      "outputs": []
    },
    {
      "cell_type": "code",
      "metadata": {
        "id": "3gDhTqa1wPLa",
        "colab_type": "code",
        "colab": {}
      },
      "source": [
        ""
      ],
      "execution_count": null,
      "outputs": []
    }
  ]
}